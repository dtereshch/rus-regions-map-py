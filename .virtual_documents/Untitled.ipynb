








# Стандартные пакеты для обработки и визуализации
import numpy as np
import pandas as pd
import matplotlib.pyplot as plt

# Пакеты для пространственного анализа
import geopandas as gpd
from shapely.geometry import Point, Polygon
import pygadm








gdf = pygadm.Items(name="Russia", content_level=1)





gdf = gpd.GeoDataFrame(gdf, geometry=gdf.geometry, crs='epsg:4326')


gdf.crs





gdf.info()


gdf.head()





gdf.plot()
plt.show()





gdf = gdf.to_crs('+proj=longlat +lon_wrap=180')





gdf.plot()
plt.show()





rus_reg_pop = pd.read_csv('rus_reg_pop.csv')
rus_reg_pop.head()





rus_reg_full = gdf.merge(rus_reg_pop, how='left', left_on='NAME_1', right_on='region')
rus_reg_full.info()





rus_reg_full.plot(column='population', legend=True)
plt.show()





fig, ax = plt.subplots(1, figsize=(18, 14))

ax.axis('off')

rus_reg_full.plot(
    column='population', 
    cmap='OrRd', 
    legend=True,
    legend_kwds={"label": "Население, тыс. чел.", "orientation": "horizontal"},
    ax=ax
)

plt.show()
